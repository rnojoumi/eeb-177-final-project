{
 "cells": [
  {
   "cell_type": "markdown",
   "metadata": {},
   "source": [
    " # Equidae/Horse Family\n",
    "   \n",
    "   \n",
    "   \n",
    "   ## Roxana Nojoumi\n",
    "   \n",
    "   \n",
    "\n",
    "<img src=\"./horse2.jpg\" width=\"600\" height=\"600\" alt=\"Alt_name\" title=\"Mytitle\" align=\"center\" />\n",
    "\n",
    "\n",
    "\n",
    "## downloaded  Fossil occurrence&  teeth measurements& Fossil location from PBDB"
   ]
  },
  {
   "cell_type": "markdown",
   "metadata": {},
   "source": [
    "### R plot\n",
    "\n",
    "```{r}\n",
    "airports <- read.csv(\"./eq_new_col.csv\", header = TRUE)\n",
    "#install.packages(\"rworldmap\")\n",
    "head(airports)\n",
    "  \n",
    "library(rworldmap)\n",
    "newmap <- getMap(resolution = \"low\")\n",
    "plot(newmap, xlim = c(-180,150 ), ylim = c(-40, 55), asp = 1)\n",
    "points(airports$lng, airports$lat, col = \"green\", cex = .4)\n",
    "\n",
    "``` \n",
    "                                    \n",
    "<img src=\"./collection/collection_files/figure-markdown_strict/unnamed-chunk-1-1.png\" width=\"1000\" height=\"1000\" alt=\"Alt_name\" title=\"Mytitle\" align=\"center\" />\n"
   ]
  },
  {
   "cell_type": "markdown",
   "metadata": {
    "collapsed": true
   },
   "source": [
    "## file from PBDB with teeth measurements for fossils\n",
    "<img src=\"./screen_meas.png\" width=\"4000\" height=\"5000\" alt=\"Alt_name\" title=\"Mytitle\" align=\"center\" />\n",
    "\n",
    "        \n",
    "\n",
    "\n"
   ]
  },
  {
   "cell_type": "code",
   "execution_count": 16,
   "metadata": {
    "collapsed": false
   },
   "outputs": [
    {
     "name": "stdout",
     "output_type": "stream",
     "text": [
      "species: Neohipparion eurystyle has length: 21.6 min: 11.95 max:7.6000000000000005 range: 4.349999999999999  average: 9.775\n",
      "\n",
      "species: Neohipparion eurystyle has length: 21.6 min: 11.95 max:7.6000000000000005 range: 4.349999999999999  average: 9.775\n",
      "\n",
      "species: Neohipparion eurystyle has length: 21.6 min: 11.95 max:7.6000000000000005 range: 4.349999999999999  average: 9.775\n",
      "\n",
      "species: Neohipparion eurystyle has length: 21.6 min: 11.95 max:7.6000000000000005 range: 4.349999999999999  average: 9.775\n",
      "\n",
      "species: Neohipparion eurystyle has length: 21.6 min: 11.95 max:7.6000000000000005 range: 4.349999999999999  average: 9.775\n",
      "\n"
     ]
    }
   ],
   "source": [
    "## combine two files, write a file with 1)species name 2)species length measured\n",
    "#3)min age 4)max age 5)range(max-min) 6)average of min and max\n",
    "\n",
    "\n",
    "import csv\n",
    "file1= open(\"sp_uniq_range.csv\", encoding = \"ISO-8859-15\")#contains 1)name 2)min 3)max 4)range(max-min)\n",
    "file2= open(\"sp_name_length.csv\",encoding = \"ISO-8859-15\")#contains 1)name 2)length\n",
    "line1= file1.readlines()#read through lines\n",
    "line2= file2.readlines()\n",
    "#define 2 dictionaries\n",
    "dict_min={}\n",
    "dict_max={}\n",
    "dict_range={}\n",
    "dict_len={}\n",
    "dict_ave={}#also want to calculate the everage of the min and max to be able to plot it vs length\n",
    "for line in line1:\n",
    "    line= line.replace('\"', '')\n",
    "    line= line.replace(\"'\", '')\n",
    "    line= line.replace(\"\\n\", \"\")\n",
    "    \n",
    "    sp_name= line.split(\",\")[0] #species names\n",
    "    sp_min = line.split(\",\")[1] #minimum number is the second column\n",
    "    sp_max = line.split(\",\")[2] #maximum number\n",
    "    sp_range = line.split(\",\")[3] #range\n",
    "    sp_ave = (float(sp_min) + float(sp_max))/2  #find the average to use for graphing later\n",
    "    \n",
    "    #define dicts\n",
    "    dict_min[sp_name]= sp_min\n",
    "    dict_max[sp_name]= sp_max\n",
    "    dict_range[sp_name]=sp_range\n",
    "    dict_ave[sp_name]=str(sp_ave)\n",
    "#output5= open(\"sp_len_min_max_range_ave.csv\", \"w\")    \n",
    "for line in line2:\n",
    "    line= line.replace('\"', '')\n",
    "    line= line.replace(\"'\", '')\n",
    "    line= line.replace(\"\\n\", \"\")\n",
    "    \n",
    "    sp_name2 = line.split(\",\")[0] #species names\n",
    "    sp_length = line.split(\",\")[1]#length measurements\n",
    "    \n",
    "    \n",
    "    dict_len[sp_name2]= sp_length\n",
    "i=1       \n",
    "#combine the dictionaries and write in the output file \n",
    "for each in dict_len.keys(): #for all the dicts with the same species name:\n",
    "    for keys in dict_min.keys():\n",
    "        for g in dict_max.keys():\n",
    "            for h in dict_range.keys():\n",
    "                if each == keys==g==h:\n",
    "                    while i<6:\n",
    "                        print(\"species: \"+ each+ \" has length: \"+ dict_len[each]+\" min: \"+dict_min[each]+ \" max:\"+dict_max[each]+ \" range: \" +dict_range[each] + \"  average: \"+dict_ave[each]+\"\\n\")\n",
    "                        i = i+1\n",
    "                    \n",
    "file1.close()\n",
    "file2.close()"
   ]
  },
  {
   "cell_type": "markdown",
   "metadata": {},
   "source": [
    "# R plot- teeth measurement \n",
    "\n",
    "```{r}\n",
    "meas <- read.csv(\"sp_len_min_max_range_ave.csv\", header = FALSE)\n",
    "\n",
    "ggplot(data = meas, aes(x = V6, y = log(V2))) +\n",
    "  geom_point()  + geom_smooth(method=\"lm\") + ggtitle(\"Fossil occurence vs. length\") + xlab(\"occurrence (Ma)\")+  ylab(\"length measurement\")\n",
    "\n",
    "ggplot(data = meas, aes(x = V6, y = log(V2))) +\n",
    "  geom_point() + ggtitle(\"Fossil occurence vs. length\") + xlab(\"occurrence (Ma)\")+  ylab(\"length measurement\")\n",
    "\n",
    "\n",
    "```\n",
    "\n",
    "\n",
    "\n",
    "<img src=\"./regraph_files/figure-markdown_strict/unnamed-chunk-1-1.png\" width=\"600\" height=\"400\" alt=\"Alt_name\" title=\"Mytitle\" align=\"center\" />"
   ]
  },
  {
   "cell_type": "code",
   "execution_count": 1,
   "metadata": {
    "collapsed": false
   },
   "outputs": [
    {
     "data": {
      "text/html": [
       "<iframe src=./pyrate/pyrate_mcmc_logs/eq_1_marginal_rates_RTT.pdf width=700 height=500></iframe>"
      ],
      "text/latex": [
       "\\includegraphics[width=1.0\\textwidth]{./pyrate/pyrate_mcmc_logs/eq_1_marginal_rates_RTT.pdf}"
      ],
      "text/plain": [
       "<__main__.PDF at 0x7fbcec5dcc88>"
      ]
     },
     "execution_count": 1,
     "metadata": {},
     "output_type": "execute_result"
    }
   ],
   "source": [
    "class PDF(object):\n",
    "    def __init__(self, pdf, size=(200,200)):\n",
    "        self.pdf = pdf\n",
    "        self.size = size\n",
    "\n",
    "    def _repr_html_(self):\n",
    "        return '<iframe src={0} width={1[0]} height={1[1]}></iframe>'.format(self.pdf, self.size)\n",
    "\n",
    "    def _repr_latex_(self):\n",
    "        return r'\\includegraphics[width=1.0\\textwidth]{{{0}}}'.format(self.pdf)\n",
    "PDF('./pyrate/pyrate_mcmc_logs/eq_1_marginal_rates_RTT.pdf',size=(700,500))"
   ]
  },
  {
   "cell_type": "markdown",
   "metadata": {},
   "source": [
    "## data downloaded from PBDB for Plants in North Amercia and Europe\n",
    "<img src=\"./plant/plant_graph_files/figure-markdown_strict/unnamed-chunk-1-1.png\" width=\"600\" height=\"200\" alt=\"Alt_name\" title=\"Mytitle\" align=\"center\" />"
   ]
  },
  {
   "cell_type": "markdown",
   "metadata": {},
   "source": [
    "## Diversity for Horses\n",
    "<img src=\"./graphs/eq_occ_div_graph_files/figure-markdown_strict/unnamed-chunk-1-2.png\" width=\"600\" height=\"200\" alt=\"Alt_name\" title=\"Mytitle\" align=\"center\" />\n"
   ]
  },
  {
   "cell_type": "markdown",
   "metadata": {},
   "source": [
    "## Diversity for Plants\n",
    "<img src=\"./plant/plant_graph_files/figure-markdown_strict/unnamed-chunk-1-2.png\" width=\"600\" height=\"200\" alt=\"Alt_name\" title=\"Mytitle\" align=\"center\" />\n"
   ]
  },
  {
   "cell_type": "markdown",
   "metadata": {},
   "source": [
    "from IPython.display import HTML, display\n",
    "\n",
    "                                           \n",
    "\n",
    "\n",
    "display(HTML(\"<table><tr><td><img src='./graphs/eq_occ_div_graph_files/figure-markdown_strict/unnamed-chunk-1-2.png'></td><td><img src='./plant/plant_graph_files/figure-markdown_strict/unnamed-chunk-1-2.png'></td></tr></table>\"))\n"
   ]
  },
  {
   "cell_type": "markdown",
   "metadata": {},
   "source": [
    "## Github repository \n",
    "## https://github.com/rnojoumi/eeb-177-final-project\n",
    "\n",
    "\n",
    "## Reference\n",
    "\n",
    "MacFadden, B. J. (2005). Fossil horses--evidence for evolution. Science, 307(5716), 1728-1730.\n",
    "\n",
    "MacFadden, B. J. (1994). Fossil horses: systematics, paleobiology, and evolution of the family Equidae. Cambridge University Press.\n",
    "\n",
    "Strömberg, C. A. (2006). Evolution of hypsodonty in equids: testing a hypothesis of adaptation. Paleobiology, 32(2), 236-258.\n",
    "\n",
    "MacFadden, B. J. (1986). Fossil horses from “Eohippus”(Hyracotherium) to Equus: scaling, Cope's Law, and the evolution of body size. Paleobiology, 12(04), 355-369."
   ]
  },
  {
   "cell_type": "code",
   "execution_count": null,
   "metadata": {
    "collapsed": true
   },
   "outputs": [],
   "source": []
  }
 ],
 "metadata": {
  "anaconda-cloud": {},
  "kernelspec": {
   "display_name": "Python [conda root]",
   "language": "python",
   "name": "conda-root-py"
  },
  "language_info": {
   "codemirror_mode": {
    "name": "ipython",
    "version": 3
   },
   "file_extension": ".py",
   "mimetype": "text/x-python",
   "name": "python",
   "nbconvert_exporter": "python",
   "pygments_lexer": "ipython3",
   "version": "3.5.2"
  }
 },
 "nbformat": 4,
 "nbformat_minor": 2
}
