{
 "cells": [
  {
   "cell_type": "markdown",
   "metadata": {},
   "source": [
    "my_file_occurrence = open and read equidae.csv file from eebfinalproject folder \n",
    "\n",
    "\n",
    "\n",
    "my_species = list  unique species in the family Equidae from <my_file_occurence>\n",
    "out put list of species\n",
    "\n",
    "\n",
    "\n",
    "\n",
    "phylogenetic_tree = phylogenetic tree of the species in Equidae family\n",
    "output = graph\n",
    "\n",
    "\n",
    "\n",
    "\n",
    "\n",
    "my_file_measurement = open and read euidaemeasurement.csv file \n",
    "\n",
    "\n",
    "\n",
    "\n",
    "my_measurement= do somethign to both my_file_occurence and my_file_measurement to get measurement for each species\n",
    "\n",
    "\n",
    "\n",
    "\n",
    "measurement_dict= {dictionary of species and their occurence and measurements}\n",
    "\n",
    "\n",
    "\n",
    "\n",
    "\n",
    "size_species_graph = graph of specise vs. body size\n",
    "\n",
    "\n",
    "\n",
    "\n",
    "occurrence_graph = graph of (occurence) all species vs. time\n",
    "\n",
    "\n",
    "\n",
    "\n",
    "\n",
    "\n",
    "\n",
    "\n",
    "\n",
    "\n",
    "size_time_graph= graph of body size vs. time\n",
    "\n",
    "\n",
    "\n",
    "\n",
    "\n",
    "\n",
    "\n",
    "\n",
    "\n",
    "\n",
    "#results \n",
    "\n",
    "\n",
    "\n",
    "\n",
    "make a new LaTex and markdown document for the results.\n",
    "\n"
   ]
  },
  {
   "cell_type": "code",
   "execution_count": null,
   "metadata": {
    "collapsed": true
   },
   "outputs": [],
   "source": []
  }
 ],
 "metadata": {
  "anaconda-cloud": {},
  "kernelspec": {
   "display_name": "Python [default]",
   "language": "python",
   "name": "python3"
  },
  "language_info": {
   "codemirror_mode": {
    "name": "ipython",
    "version": 3
   },
   "file_extension": ".py",
   "mimetype": "text/x-python",
   "name": "python",
   "nbconvert_exporter": "python",
   "pygments_lexer": "ipython3",
   "version": "3.5.2"
  }
 },
 "nbformat": 4,
 "nbformat_minor": 2
}
