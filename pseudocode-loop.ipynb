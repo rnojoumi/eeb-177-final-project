{
 "cells": [
  {
   "cell_type": "markdown",
   "metadata": {},
   "source": [
    "species = list of specie in Equidae family\n",
    "my_measurement =  species vs. body size\n",
    "\n",
    "#to get files for each uniqe species that shows their measurements.\n",
    "\n",
    "for list of species:\n",
    "    \n",
    "        if a line in my_measurement contains a species name (from the list), \n",
    "       \n",
    "       print (the result (of species with body size)) >  to a new file with the name of that species. \n",
    " \n",
    "\n",
    "my_occurence = species vs time\n",
    "\n",
    "\n",
    "#to get files for each species that shows thier occurence \n",
    "\n",
    "for list of species:\n",
    "   \n",
    "       if a line in my_occurence contains species,\n",
    "   \n",
    "       print (the result) > to a new file with the name of that species.\n",
    "    \n",
    "    \n",
    "\n",
    "\n",
    "    "
   ]
  },
  {
   "cell_type": "markdown",
   "metadata": {},
   "source": []
  },
  {
   "cell_type": "code",
   "execution_count": null,
   "metadata": {
    "collapsed": true
   },
   "outputs": [],
   "source": []
  }
 ],
 "metadata": {
  "anaconda-cloud": {},
  "kernelspec": {
   "display_name": "Python [default]",
   "language": "python",
   "name": "python3"
  },
  "language_info": {
   "codemirror_mode": {
    "name": "ipython",
    "version": 3
   },
   "file_extension": ".py",
   "mimetype": "text/x-python",
   "name": "python",
   "nbconvert_exporter": "python",
   "pygments_lexer": "ipython3",
   "version": "3.5.2"
  }
 },
 "nbformat": 4,
 "nbformat_minor": 2
}
