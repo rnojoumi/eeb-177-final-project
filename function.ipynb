{
 "cells": [
  {
   "cell_type": "code",
   "execution_count": 16,
   "metadata": {
    "collapsed": false
   },
   "outputs": [],
   "source": [
    "#first line, opened the csv file for the Equidae family data. \n",
    "#second line, used readline to get the data in lines for lines after 17.\n",
    "#used for loop to get the columns of species name, id number and occurence number and saved them in two dictionaries,\n",
    "# one dictionary for species and their corresponding id number, and one dictionary for the species and their corresponding occurence number.\n",
    "# function is to print the id number and occurence number for each species.\n",
    "# first I made a list of the species names(keys), then for each name printed the corresponding id and occurence number. \n",
    "#below I made a sample file with the first 3 lines of my actual file(used head command) and re-wrote my function to open that file.\n",
    "def species_id_occurence():\n",
    "    my_file = open(\"equidae.csv\",\"r\", encoding = \"ISO-8859-15\")\n",
    "    my_lines = my_file.readlines()[17:]\n",
    "    for line in my_lines:\n",
    "        spc_idname={}\n",
    "        spc_occurence={}\n",
    "        species= line.split(\",\")[9]\n",
    "        idnumber = line.split(\",\")[11]\n",
    "        occurence_num = line.split(\",\")[0]\n",
    "        spc_idname[species]= idnumber\n",
    "        spc_occurence[species]= occurence_num\n",
    "        spcname = list(spc_idname.keys())\n",
    "        spcoccurence= list(spc_occurence.keys())\n",
    "        for name in spcname:\n",
    "            print (\"specie \" + name + \" has id number \" + spc_idname[name]+\" and has occurence number \"+ spc_occurence[name])\n",
    "        #or\n",
    "        #spcoccurence= list(spc_occurence.keys())\n",
    "        # for name in spcoccurence:\n",
    "        #  print(\"specie \" + name + \" has occurence number \"+ spc_occurence[name])\n",
    "        \n",
    "    my_file.close()     \n"
   ]
  },
  {
   "cell_type": "code",
   "execution_count": null,
   "metadata": {
    "collapsed": false
   },
   "outputs": [],
   "source": [
    "species_id_occurence()"
   ]
  },
  {
   "cell_type": "code",
   "execution_count": 16,
   "metadata": {
    "collapsed": false
   },
   "outputs": [],
   "source": [
    "sample_file= \"\"\"138748,occ,,,11798,Hipparion cf. nagriensis,species,43000,species not entered,Hipparion,genus,43000,Turolian,,8.7,5.333,10883\n",
    "138824,occ,,,11799,Hipparion gracile,species,43000,species not entered,Hipparion,genus,43000,Late Miocene,Early Pliocene,11.608,3.6,4198\n",
    "138829,occ,,,11799,Equidae indet.,family,42984,,Equidae,family,42984,Late Miocene,Early Pliocene,11.608,3.6,4198\"\"\"\n",
    "\n",
    "def species_id_occurence_sample():\n",
    "    #my_file = open(\"equidae.csv\",\"r\", encoding = \"ISO-8859-15\")\n",
    "    #my_lines = my_file.readlines()[17:]\n",
    "    dataset= sample_file.splitlines()\n",
    "    for line in dataset:\n",
    "        #line= line.split(\",\")\n",
    "        spc_idname={}\n",
    "        spc_occurence={}\n",
    "        species= line.split(\",\")[9]\n",
    "        idnumber = line.split(\",\")[11]\n",
    "        occurence_num = line.split(\",\")[0]\n",
    "        spc_idname[species]= idnumber\n",
    "        spc_occurence[species]= occurence_num\n",
    "        spcname = list(spc_idname.keys())\n",
    "        for name in spcname:\n",
    "            print (\"specie \" + name + \" has id number \" + spc_idname[name])\n",
    "        \n",
    "            spcoccurence= list(spc_occurence.keys())\n",
    "        for name in spcoccurence:\n",
    "            print(\"specie \" + name + \" has occurence number \"+ spc_occurence[name])\n",
    "        \n",
    "\n",
    "\n",
    "    "
   ]
  },
  {
   "cell_type": "code",
   "execution_count": 17,
   "metadata": {
    "collapsed": false,
    "scrolled": false
   },
   "outputs": [
    {
     "name": "stdout",
     "output_type": "stream",
     "text": [
      "specie Hipparion has id number 43000\n",
      "specie Hipparion has occurence number 138748\n",
      "specie Hipparion has id number 43000\n",
      "specie Hipparion has occurence number 138824\n",
      "specie Equidae has id number 42984\n",
      "specie Equidae has occurence number 138829\n"
     ]
    }
   ],
   "source": [
    "species_id_occurence_sample()"
   ]
  },
  {
   "cell_type": "code",
   "execution_count": null,
   "metadata": {
    "collapsed": true
   },
   "outputs": [],
   "source": []
  },
  {
   "cell_type": "code",
   "execution_count": 170,
   "metadata": {
    "collapsed": true
   },
   "outputs": [],
   "source": [
    "#self-practice... function to take a name and find its id and occurence number \n",
    "def find_id_occurence(name):\n",
    "    id_num = list(spc_idname[name])\n",
    "    occurence_num = list(spc_occurence[name])\n",
    "    print(\"specie \"+ name + \" has id number \"+ id_num[0] + \"and occurence number \"+ occurence_num[0] )"
   ]
  },
  {
   "cell_type": "code",
   "execution_count": null,
   "metadata": {
    "collapsed": false
   },
   "outputs": [],
   "source": []
  },
  {
   "cell_type": "code",
   "execution_count": null,
   "metadata": {
    "collapsed": true
   },
   "outputs": [],
   "source": []
  },
  {
   "cell_type": "code",
   "execution_count": 105,
   "metadata": {
    "collapsed": false
   },
   "outputs": [
    {
     "data": {
      "text/plain": [
       "'two'"
      ]
     },
     "execution_count": 105,
     "metadata": {},
     "output_type": "execute_result"
    }
   ],
   "source": [
    "dic = {\"1\":\"one\",\"2\":\"two\"}\n",
    "dic[\"2\"]\n",
    "\n",
    "    "
   ]
  },
  {
   "cell_type": "code",
   "execution_count": null,
   "metadata": {
    "collapsed": true
   },
   "outputs": [],
   "source": []
  }
 ],
 "metadata": {
  "anaconda-cloud": {},
  "kernelspec": {
   "display_name": "Python [default]",
   "language": "python",
   "name": "python3"
  },
  "language_info": {
   "codemirror_mode": {
    "name": "ipython",
    "version": 3
   },
   "file_extension": ".py",
   "mimetype": "text/x-python",
   "name": "python",
   "nbconvert_exporter": "python",
   "pygments_lexer": "ipython3",
   "version": "3.5.2"
  }
 },
 "nbformat": 4,
 "nbformat_minor": 2
}
