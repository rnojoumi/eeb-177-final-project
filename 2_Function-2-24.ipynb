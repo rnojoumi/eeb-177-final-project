{
 "cells": [
  {
   "cell_type": "code",
   "execution_count": null,
   "metadata": {
    "collapsed": false
   },
   "outputs": [],
   "source": []
  },
  {
   "cell_type": "code",
   "execution_count": 1,
   "metadata": {
    "collapsed": false
   },
   "outputs": [],
   "source": []
  },
  {
   "cell_type": "code",
   "execution_count": null,
   "metadata": {
    "collapsed": true
   },
   "outputs": [],
   "source": []
  },
  {
   "cell_type": "markdown",
   "metadata": {},
   "source": [
    "# extract species name and its mix and max occurence "
   ]
  },
  {
   "cell_type": "code",
   "execution_count": 31,
   "metadata": {
    "collapsed": false
   },
   "outputs": [
    {
     "name": "stdout",
     "output_type": "stream",
     "text": [
      "Acritohippus isonesus,species,15.97,13.6\n",
      "\n",
      "Acritohippus isonesus,species,15.97,13.6\n",
      "\n",
      "Acritohippus isonesus,species,15.97,13.6\n",
      "\n",
      "Acritohippus isonesus,species,15.97,13.6\n",
      "\n",
      "Acritohippus isonesus,species,15.97,13.6\n",
      "\n",
      "Acritohippus isonesus,species,15.97,13.6\n",
      "\n",
      "Acritohippus isonesus,species,15.97,13.6\n",
      "\n",
      "Acritohippus isonesus,species,15.97,13.6\n",
      "\n",
      "Acritohippus isonesus,species,15.97,13.6\n",
      "\n",
      "Acritohippus isonesus,species,15.97,13.6\n",
      "\n"
     ]
    },
    {
     "ename": "IndexError",
     "evalue": "list index out of range",
     "output_type": "error",
     "traceback": [
      "\u001b[0;31m---------------------------------------------------------------------------\u001b[0m",
      "\u001b[0;31mIndexError\u001b[0m                                Traceback (most recent call last)",
      "\u001b[0;32m<ipython-input-31-01f11bdb2759>\u001b[0m in \u001b[0;36m<module>\u001b[0;34m()\u001b[0m\n\u001b[1;32m     13\u001b[0m \u001b[0;34m\u001b[0m\u001b[0m\n\u001b[1;32m     14\u001b[0m     \u001b[0mspecies_name\u001b[0m\u001b[0;34m=\u001b[0m \u001b[0mline\u001b[0m\u001b[0;34m.\u001b[0m\u001b[0msplit\u001b[0m\u001b[0;34m(\u001b[0m\u001b[0;34m\",\"\u001b[0m\u001b[0;34m)\u001b[0m\u001b[0;34m[\u001b[0m\u001b[0;36m0\u001b[0m\u001b[0;34m]\u001b[0m\u001b[0;34m\u001b[0m\u001b[0m\n\u001b[0;32m---> 15\u001b[0;31m     \u001b[0mgenus_family\u001b[0m\u001b[0;34m=\u001b[0m \u001b[0mline\u001b[0m\u001b[0;34m.\u001b[0m\u001b[0msplit\u001b[0m\u001b[0;34m(\u001b[0m\u001b[0;34m\",\"\u001b[0m\u001b[0;34m)\u001b[0m\u001b[0;34m[\u001b[0m\u001b[0;36m1\u001b[0m\u001b[0;34m]\u001b[0m\u001b[0;34m\u001b[0m\u001b[0m\n\u001b[0m\u001b[1;32m     16\u001b[0m     \u001b[0mmax_int\u001b[0m \u001b[0;34m=\u001b[0m \u001b[0mline\u001b[0m\u001b[0;34m.\u001b[0m\u001b[0msplit\u001b[0m\u001b[0;34m(\u001b[0m\u001b[0;34m\",\"\u001b[0m\u001b[0;34m)\u001b[0m\u001b[0;34m[\u001b[0m\u001b[0;36m2\u001b[0m\u001b[0;34m]\u001b[0m\u001b[0;34m\u001b[0m\u001b[0m\n\u001b[1;32m     17\u001b[0m     \u001b[0mmin_int\u001b[0m \u001b[0;34m=\u001b[0m \u001b[0mline\u001b[0m\u001b[0;34m.\u001b[0m\u001b[0msplit\u001b[0m\u001b[0;34m(\u001b[0m\u001b[0;34m\",\"\u001b[0m\u001b[0;34m)\u001b[0m\u001b[0;34m[\u001b[0m\u001b[0;36m3\u001b[0m\u001b[0;34m]\u001b[0m\u001b[0;34m\u001b[0m\u001b[0m\n",
      "\u001b[0;31mIndexError\u001b[0m: list index out of range"
     ]
    }
   ],
   "source": [
    "#equidae4column contains: name, specie/genus/family, max, min\n",
    "#here, i create a file with only the data for the species and not genus or family\n",
    "#output is a file with name of species and their max and min\n",
    "\n",
    "my_file2= open(\"equidae4column.csv\" , encoding = \"ISO-8859-15\")\n",
    "my_lines2 = my_file2.readlines()[16:]\n",
    "output=open(\"species_only.csv\",\"w\")   \n",
    "#here i will only print the first ten lines of my file   \n",
    "i=1    \n",
    "for line in my_lines2:\n",
    "    line= line.replace('\"', '')\n",
    "    line= line.replace(\"'\", '')\n",
    "        \n",
    "    species_name= line.split(\",\")[0]\n",
    "    genus_family= line.split(\",\")[1]\n",
    "    max_int = line.split(\",\")[2]\n",
    "    min_int = line.split(\",\")[3]\n",
    "      \n",
    "    if genus_family==\"species\":\n",
    "        output.write(line)\n",
    "        while i<11:\n",
    "    \n",
    "           print(line)\n",
    "           i=i+1\n",
    "my_file2.close()  \n",
    "\n",
    "#the first time i ran this code i didnt get any error. however function still works and creates the correct output even though i get an error!!"
   ]
  },
  {
   "cell_type": "markdown",
   "metadata": {},
   "source": [
    "# species names and average value"
   ]
  },
  {
   "cell_type": "code",
   "execution_count": 10,
   "metadata": {
    "collapsed": false
   },
   "outputs": [
    {
     "name": "stdout",
     "output_type": "stream",
     "text": [
      "Acritohippus isonesus14.785\n",
      "\n",
      "Acritohippus isonesus14.785\n",
      "\n",
      "Acritohippus isonesus14.785\n",
      "\n",
      "Acritohippus isonesus14.785\n",
      "\n",
      "Acritohippus isonesus14.785\n",
      "\n",
      "Acritohippus isonesus14.785\n",
      "\n",
      "Acritohippus isonesus14.785\n",
      "\n",
      "Acritohippus isonesus14.785\n",
      "\n",
      "Acritohippus isonesus14.785\n",
      "\n",
      "Acritohippus isonesus14.785\n",
      "\n"
     ]
    }
   ],
   "source": [
    "#for the file with only species name, i take the average for their min and max\n",
    "#now average_species.csv contains species name and their average occurence \n",
    "my_file = open(\"species_only.csv\", encoding = \"ISO-8859-15\")\n",
    "my_line =my_file.readlines()\n",
    "output2 =open(\"average_species.csv\",\"w\")\n",
    "i=1\n",
    "for line in my_line:\n",
    "    species= line.split(\",\")[0]\n",
    "    sp_max = line.split(\",\")[2]\n",
    "    sp_min = line.split(\",\")[3]\n",
    "    average = (float(sp_max) +float(sp_min))/2\n",
    "    \n",
    "        \n",
    "       \n",
    "    output2.write(species)\n",
    "    output2.write(\",\")\n",
    "    output2.write(str(average))\n",
    "    output2.write(\"\\n\")\n",
    "#here i will print only 10 lines of my file\n",
    "    while i<11:\n",
    "        print(species + str(average)+\"\\n\")\n",
    "        i=i+1\n",
    "\n",
    "    \n"
   ]
  },
  {
   "cell_type": "code",
   "execution_count": 18,
   "metadata": {
    "collapsed": true
   },
   "outputs": [],
   "source": []
  },
  {
   "cell_type": "markdown",
   "metadata": {
    "collapsed": false
   },
   "source": [
    "# species early-late occurence"
   ]
  },
  {
   "cell_type": "code",
   "execution_count": 16,
   "metadata": {
    "collapsed": false
   },
   "outputs": [
    {
     "name": "stdout",
     "output_type": "stream",
     "text": [
      "{'Epihippus gracilis': ('Duchesnean', 'NA'), 'Protohippus': ('Barstovian', 'NA'), 'Hypohippus affinis': ('Clarendonian', 'NA'), 'Calippus placidus': ('Clarendonian', 'NA'), 'Scaphohippus sumani': ('Early Barstovian', 'NA'), 'Cormohipparion merriami': ('Clarendonian', 'NA'), 'Scaphohippus intermontanus': ('Hemingfordian', 'NA'), 'Pseudhipparion hessei': ('Clarendonian', 'NA'), 'Parahippus pristinus': ('Arikareean', 'NA'), 'Equus idahoensis': ('Blancan', 'NA'), 'Epihippus': ('Uintan', 'NA'), 'Equus (Hemionus)': ('Middle Pleistocene', 'NA'), 'Xenicohippus osborni': ('Wasatchian', 'NA'), 'Mesohippus propinquus': ('Chadronian', 'NA'), 'Protohippus supremus': ('Late Clarendonian', 'NA'), 'Hipparion tehonense': ('Miocene', 'Hemphillian'), 'Miohippus obliquidens': ('Arikareean', 'NA'), 'Eurohippus parvulus': ('Bartonian', 'NA'), 'Kalobatippus agatensis': ('Harrisonian', 'NA'), 'Heteropliohippus hulberti': ('Miocene', 'NA'), 'Nannippus minor': ('Pliocene', 'NA'), 'Cormohipparion skinneri': ('Clarendonian', 'NA'), 'Hipparion fissurae': ('Ruscinian', 'NA'), 'Eurygnathohippus afarense': ('Pliocene', 'NA'), 'Hipparion matthewi': ('Turolian', 'NA'), 'Anchitherium': ('Neogene', 'NA'), 'Anchitheriinae': ('Hemphillian', 'NA'), 'Protohippus lenticularis': ('Hemphillian', 'NA'), 'Equus': ('Late Pleistocene', 'Holocene'), 'Megahippus': ('Early Barstovian', 'NA'), 'Hipparion periafricanum': ('Turolian', 'NA'), 'Equus yunnanensis': ('Baodean', 'NA'), 'Calippus cerasinus': ('Miocene', 'NA'), 'Equus capensis': ('Pleistocene', 'NA'), 'Calippus circulus': ('Miocene', 'NA'), 'Pliohippus fossulatus': ('Miocene', 'NA'), 'Neohipparion affine': ('Clarendonian', 'Hemphillian'), 'Hipparion': ('Late Miocene', 'NA'), 'Equus complicatus': ('Pleistocene', 'NA'), 'Hipparion gromovae': ('Turolian', 'NA'), 'Dinohippus leidyanus': ('Late Hemphillian', 'NA'), 'Cormohipparion': ('Miocene', 'NA'), 'Equus (Plesippus) crenidens': ('Late Pliocene', 'NA'), 'Hippotherium': ('MN 9', 'NA'), 'Equus pacificus': ('Late Pleistocene', 'NA'), 'Miohippus gemmarosae': ('Harrisonian', 'NA'), 'Sifrhippus sandrae': ('Ypresian', 'NA'), 'Acritohippus quinni': ('Miocene', 'NA'), 'Hipparion phlegrae': ('Turolian', 'NA'), 'Merychippus californicus': ('Early Barstovian', 'early Late Barstovian'), 'Hipparionini': ('Clarendonian', 'NA'), 'Hipparion chiai': ('MN 10', 'MN 11'), 'Merychippus republicanus': ('Barstovian', 'NA'), 'Equus scotti': ('Late Pleistocene', 'Holocene'), 'Equus (Hemionus) hemionus': ('Late Pleistocene', 'NA'), 'Equus leidyi': ('Late Pleistocene', 'NA'), 'Calippus proplacidus': ('Miocene', 'NA'), 'Merychippus stevensi': ('Miocene', 'NA'), 'Archaeohippus mannulus': ('Monroecreekian', 'Harrisonian'), 'Equus caballus': ('Pleistocene', 'NA'), 'Calippus': ('Early Clarendonian', 'NA'), 'Mesohippus': ('Orellan', 'NA'), 'Pliolophus vulpiceps': ('Ypresian', 'NA'), 'Hipparion dietrichi': ('MN 11', 'NA'), 'Anchitherium clarencei': ('Early Hemingfordian', 'NA'), 'Hypohippus osborni': ('Miocene', 'NA'), 'Miohippus grandis': ('Orellan', 'NA'), 'Neohipparion eurystyle': ('Late Hemphillian', 'NA'), 'Equus (Asinus) kiang': ('Late Pleistocene', 'NA'), 'Neohipparion leptode': ('late Early Hemphillian', 'NA'), 'Hipparion shirleyae': ('Miocene', 'NA'), 'Nannippus beckensis': ('Blancan', 'NA'), 'Mesohippus texanus': ('Chadronian', 'NA'), 'Nannippus morgani': ('Hemphillian', 'NA'), 'Hipparion condoni': ('Clarendonian', 'Hemphillian'), 'Hipparion mediterraneum': ('Late Miocene', 'NA'), 'Equus curvidens': ('Lujanian', 'NA'), 'Xenicohippus': ('Wasatchian', 'NA'), 'Hippidion': ('Pleistocene', 'NA'), 'Merychippus coloradense': ('Clarendonian', 'NA'), 'Calippus martini': ('Clarendonian', 'Hemphillian'), 'Archaeohippus ultimus': ('Miocene', 'NA'), 'Parahippus leonensis': ('Hemingfordian', 'NA'), 'Parahippus atavus': ('Harrisonian', 'NA'), 'Eurygnathohippus': ('Tortonian', 'Zanclean'), 'Hipparion weihoense': ('MN 10', 'MN 11'), 'Nannippus aztecus': ('Middle Miocene', 'NA'), 'Equus midlandensis': ('Late Pleistocene', 'NA'), 'Pseudhipparion': ('Clarendonian', 'Pliocene'), 'Anchitherium navasotae': ('Hemingfordian', 'NA'), 'Anchitherium aurelianense': ('MN 4', 'NA'), 'Astrohippus ansae': ('Late Hemphillian', 'NA'), 'Orohippus major': ('Bridgerian', 'NA'), 'Hippidion devillei': ('Early Pleistocene', 'NA'), 'Desmatippus tyleri': ('Early Hemingfordian', 'NA'), 'Mesohippus westoni': ('Chadronian', 'NA'), 'Pseudhipparion skinneri': ('Clarendonian', 'NA'), 'Hipparion rocinantis': ('Pliocene', 'NA'), 'Arenahippus aemulor': ('Wasatchian', 'NA'), 'Parapliohippus carrizoensis': ('Miocene', 'NA'), 'Cormohipparion goorisi': ('Barstovian', 'NA'), 'Cormohipparion fricki': ('Clarendonian', 'NA'), 'Hipparion crassum': ('Pleistocene', 'NA'), 'Cormohipparion sphenodus': ('Barstovian', 'NA'), 'Xenicohippus grangeri': ('Wasatchian', 'NA'), 'Merychippus sejunctus': ('Early Barstovian', 'NA'), 'Miohippus annectens': ('Arikareean', 'NA'), 'Hipparion concudense': ('Turolian', 'NA'), 'Xenicohippus craspedotum': ('Early Eocene', 'NA'), 'Equus przewalskii': ('Late Pleistocene', 'NA'), 'Equus alaskae': ('Late Pleistocene', 'NA'), 'Mesohippus bairdi': ('Orellan', 'NA'), 'Merychippus calamarius': ('Barstovian', 'NA'), 'Mesohippus exoletus': ('Orellan', 'NA'), 'Orohippus proteros': ('Wasatchian', 'NA'), 'Archaeohippus': ('Barstovian', 'NA'), 'Pliohippus coalingensis': ('Pliocene', 'NA'), 'Protorohippus montanum': ('Wasatchian', 'NA'), 'Parahippus cognatus': ('Hemingfordian', 'NA'), 'Desmatippus': ('Harrisonian', 'NA'), 'Hypohippus': ('Clarendonian', 'NA'), 'Hipparion laromae': ('MN 10', 'NA'), 'Desmatippus integer': ('Hemingfordian', 'NA'), 'Sinohippus sampelayoi': ('MN 10', 'NA'), 'Pliohippus nobilis': ('Clarendonian', 'Hemphillian'), 'Scaphohippus': ('Early Barstovian', 'NA'), 'Equus pectinatus': ('Irvingtonian', 'NA'), 'Desmatippus avus': ('Early Barstovian', 'early Late Barstovian'), 'Protohippus perditus': ('Barstovian', 'Clarendonian'), 'Equinae': ('Late Hemingfordian', 'NA'), 'Equus proversus': ('Late Pliocene', 'Early Pleistocene'), 'Astrohippus': ('Miocene', 'NA'), 'Calippus elachistus': ('Miocene', 'NA'), 'Haplohippus texanus': ('Duchesnean', 'NA'), 'Pliohippus': ('Late Miocene', 'NA'), 'Equus (Amerhippus) andium': ('Early Pleistocene', 'NA'), 'Parahippus pawniensis': ('Early Hemingfordian', 'NA'), 'Equus (Dolichohippus)': ('Irvingtonian', 'NA'), 'Miohippus equinanus': ('Monroecreekian', 'NA'), 'Eohippus angustidens': ('Wasatchian', 'NA'), 'Cormohipparion occidentale': ('Clarendonian', 'NA'), 'Equus francisci': ('Late Pleistocene', 'NA'), 'Pliohippus fairbanksi': ('Clarendonian', 'NA'), 'Miohippus gidleyi': ('Whitneyan', 'NA'), 'Protohippus vetus': ('Miocene', 'NA'), 'Calippus hondurensis': ('Late Hemphillian', 'NA'), 'Plesiohipparion': ('Early Pliocene', 'NA'), 'Merychippus brevidontus': ('Barstovian', 'NA'), 'Cormohipparion johnsoni': ('Clarendonian', 'NA'), 'Equidae': ('Pleistocene', 'NA'), 'Equus niobrarensis': ('Late Pleistocene', 'NA'), 'Calippus regulus': ('Clarendonian', 'Hemphillian'), 'Sifrhippus grangeri': ('Wasatchian', 'NA'), 'Parahippus': ('Hemingfordian', 'NA'), 'Merychippus primus': ('Hemingfordian', 'NA'), 'Merychippus': ('Barstovian', 'NA'), 'Calippus maccartyi': ('Hemphillian', 'NA'), 'Eurygnathohippus libycum': ('Gelasian', 'Calabrian'), 'Hipparion macedonicum': ('Late Miocene', 'NA'), 'Dinohippus': ('Clarendonian', 'Pliocene'), 'Hypohippus pertinax': ('Early Barstovian', 'NA'), 'Cormohipparion plicatile': ('Hemphillian', 'NA'), 'Pliohippus pernix': ('Late Clarendonian', 'NA'), 'Merychippus insignis': ('Clarendonian', 'NA'), 'Hippidion saldiasi': ('Late Pleistocene', 'NA'), 'Acritohippus tertius': ('Hemingfordian', 'NA'), 'Miohippus assiniboiensis': ('Whitneyan', 'Monroecreekian'), 'Hypohippus chico': ('Miocene', 'NA'), 'Equus (Dolichohippus) enormis': ('Irvingtonian', 'NA'), 'Eurygnathohippus albertense': ('Late Pliocene', 'NA'), 'Nannippus peninsulatus': ('Blancan', 'NA'), 'Miohippus': ('Arikareean', 'NA'), 'Equus (Hesperohippus) mexicanus': ('Irvingtonian', 'NA'), 'Equus fromanius': ('Blancan', 'NA'), 'Hippidion principale': ('Early Pleistocene', 'NA'), 'Orohippus pumilus': ('Bridgerian', 'NA'), 'Pliohippus mirabilis': ('Miocene', 'NA'), 'Equus (Amerhippus) santaeelenae': ('Late Pleistocene', 'NA'), 'Equus conversidens': ('Pleistocene', 'NA'), 'Archaeohippus minutalis': ('Hemingfordian', 'NA'), 'Equus giganteus': ('Pleistocene', 'NA'), 'Equus zebra': ('Pleistocene', 'NA'), 'Arenahippus pernix': ('Wasatchian', 'NA'), 'Dinohippus leardi': ('Tortonian', 'NA'), 'Hipparion forcei': ('Tortonian', 'NA'), 'Equus quagga burchelli': ('Late Pleistocene', 'NA'), 'Miohippus intermedius': ('Arikareean', 'NA'), 'Dinohippus interpolatus': ('Blancan', 'NA'), 'Desmatippus nebrascensis': ('Harrisonian', 'NA'), 'Equus quagga': ('Early Pleistocene', 'NA'), 'Miohippus taxus': ('Harrisonian', 'NA'), 'Cormohipparion emsliei': ('Blancan', 'NA'), 'Archaeohippus stenolophus': ('Hemingfordian', 'NA'), 'Dinohippus mexicanus': ('Late Hemphillian', 'NA'), 'Parahippus maxsoni': ('Arikareean', 'NA'), 'Nannippus westoni': ('Middle Miocene', 'NA'), 'Protorohippus venticolum': ('Wasatchian', 'NA'), 'Minippus index': ('Wasatchian', 'NA'), 'Desmatippus texanus': ('Chattian', 'NA'), 'Parahipparion saldiasi': ('Late Pleistocene', 'NA'), 'Merychippus relictus': ('Early Barstovian', 'early Late Barstovian'), 'Miohippus anceps': ('Arikareean', 'NA'), 'Equini': ('Pliocene', 'NA'), 'Hipparion longipes': ('MN 14', 'NA'), 'Equus nalaikhaensis': ('Early Pleistocene', 'NA'), 'Equus (Dolichohippus) grevyi': ('Pleistocene', 'NA'), 'Acritohippus isonesus': ('Hemingfordian', 'NA'), 'Equus tabeti': ('Early Pleistocene', 'NA'), 'Equus fraternus': ('Pleistocene', 'NA'), 'Kalobatippus': ('Miocene', 'NA'), 'Merychippus quintus': ('Hemingfordian', 'NA'), 'Equus santaeelenae': ('Pleistocene', 'NA'), 'Eurygnathohippus hasumense': ('Piacenzian', 'NA'), 'Hipparion molayanense': ('Turolian', 'NA'), 'Equus (Dolichohippus) simplicidens': ('Late Pliocene', 'NA'), 'Equus (Amerhippus) insulatus': ('Late Pleistocene', 'NA'), 'Megahippus mckennai': ('Barstovian', 'NA'), 'Pseudhipparion simpsoni': ('Late Hemphillian', 'NA'), 'Astrohippus stockii': ('Late Hemphillian', 'NA'), 'Cormohipparion matthewi': ('Clarendonian', 'NA'), 'Eurygnathohippus turkanense': ('Tortonian', 'Zanclean'), 'Parapliohippus': ('Hemingfordian', 'Barstovian'), 'Merychippus gunteri': ('Hemingfordian', 'NA'), 'Equus asinus': ('Holocene', 'NA'), 'Neohipparion gidleyi': ('Miocene', 'NA'), 'Hypohippus equinus': ('Hemingfordian', 'NA'), 'Kalobatippus australis': ('Miocene', 'NA'), 'Pliohippus spectans': ('Hemphillian', 'NA'), 'Acritohippus stylodontus': ('Barstovian', 'NA'), 'Archaeohippus blackbergi': ('Hemingfordian', 'NA'), 'Orohippus': ('Bridgerian', 'NA'), 'Orohippus sylvaticus': ('Early Uintan', 'NA'), 'Sinohippus zitteli': ('Early Pliocene', 'NA'), 'Neohipparion': ('Hemingfordian', 'NA'), 'Miohippus equiceps': ('Monroecreekian', 'NA'), 'Pseudhipparion curtivallum': ('Early Clarendonian', 'NA'), 'Kalobatippus avus': ('Harrisonian', 'NA'), 'Pliohippus potosinus': ('Late Miocene', 'NA'), 'Parahippus wyomingensis': ('Harrisonian', 'NA'), 'Cormohipparion ingenuum': ('Early Clarendonian', 'NA'), 'Equus excelsus': ('Late Pliocene', 'NA'), 'Equus (Amerhippus) martinei': ('Pleistocene', 'NA'), 'Pseudhipparion retrusum': ('Miocene', 'NA'), 'Neohipparion trampasense': ('Middle Miocene', 'NA'), 'Pseudhipparion gratum': ('Barstovian', 'NA'), 'Duchesnehippus intermedius': ('Duchesnean', 'NA'), 'Pliolophus barnesi': ('Ypresian', 'NA'), 'Nannippus': ('Clarendonian', 'NA'), 'Hippotherium primigenium': ('MN 9', 'NA'), 'Calippus (Calippus)': ('Langhian', 'NA'), 'Archaeohippus mourningi': ('Early Barstovian', 'early Late Barstovian'), 'Boreohippidion galushai': ('Late Hemphillian', 'NA'), 'Hypohippus nevadensis': ('Clarendonian', 'NA'), 'Archaeohippus penultimus': ('Hemingfordian', 'NA'), 'Megahippus matthewi': ('Late Clarendonian', 'NA'), 'Protohippus gidleyi': ('Hemphillian', 'NA'), 'Cormohipparion quinni': ('Barstovian', 'NA')}\n"
     ]
    }
   ],
   "source": [
    "#this function makes a dictionary of the species as keys and their early and late occurence as values. \n",
    "# for some species, the late occurence is not given, the function will print NA instead of empty space. \n",
    "def species_occurence_dict():\n",
    "    my_file = open(\"equidae2.csv\",\"r\", encoding = \"ISO-8859-15\")\n",
    "    my_line =my_file.readlines()[17:]\n",
    "    \n",
    "    sp_int = {}\n",
    "    \n",
    "    for line in my_line:\n",
    "        line= line.replace('\"', '')\n",
    "        early_int= line.split(\",\")[12]\n",
    "        species = line.split(\",\")[9]\n",
    "        late_int = line.split(\",\")[13]\n",
    "        if late_int == \"\":\n",
    "            late_int= \"NA\"\n",
    "        else:\n",
    "            late_int= late_int\n",
    "            \n",
    "        sp_int[species]= early_int,late_int\n",
    "    print(sp_int) \n",
    "    \n",
    "    \n",
    "species_occurence_dict()   "
   ]
  },
  {
   "cell_type": "code",
   "execution_count": null,
   "metadata": {
    "collapsed": false
   },
   "outputs": [],
   "source": []
  },
  {
   "cell_type": "markdown",
   "metadata": {
    "collapsed": true
   },
   "source": [
    "# Average occurence "
   ]
  },
  {
   "cell_type": "code",
   "execution_count": 14,
   "metadata": {
    "collapsed": false
   },
   "outputs": [
    {
     "name": "stdout",
     "output_type": "stream",
     "text": [
      "{'Hipparion forcei': 9.433, 'Acritohippus stylodontus': 14.785, 'Eurygnathohippus hasumense': 3.0940000000000003, 'Protohippus vetus': 14.1815, 'Archaeohippus blackbergi': 18.2, 'Equus yunnanensis': 8.0, 'Dinohippus mexicanus': 7.6000000000000005, 'Parahippus atavus': 22.615000000000002, 'Mesohippus westoni': 35.55, 'Equus (Dolichohippus) enormis': 1.05, 'Hipparion phlegrae': 7.0165, 'Eurohippus parvulus': 39.65, 'Nannippus': 11.95, 'Equus midlandensis': 0.06885, 'Mesohippus texanus': 35.55, 'Merychippus sejunctus': 14.785, 'Dinohippus leardi': 9.433, 'Merychippus relictus': 14.785, 'Merychippus coloradense': 11.95, 'Orohippus': 48.25, 'Hipparion weihoense': 8.725, 'Hypohippus affinis': 11.95, 'Calippus (Calippus)': 14.895, 'Equus quagga burchelli': 0.06885, 'Archaeohippus stenolophus': 18.2, 'Hipparion matthewi': 7.0165, 'Pliohippus spectans': 7.6000000000000005, 'Parahipparion saldiasi': 0.06885, 'Cormohipparion merriami': 11.95, 'Eurygnathohippus turkanense': 7.609999999999999, 'Hypohippus osborni': 14.1815, 'Nannippus aztecus': 13.789000000000001, 'Equus (Dolichohippus) simplicidens': 3.0940000000000003, 'Pliohippus nobilis': 9.25, 'Orohippus sylvaticus': 43.3, 'Equus': 0.063, 'Calippus circulus': 14.1815, 'Neohipparion eurystyle': 7.6000000000000005, 'Archaeohippus': 14.785, 'Cormohipparion ingenuum': 11.95, 'Epihippus': 43.3, 'Cormohipparion occidentale': 11.95, 'Protohippus gidleyi': 7.6000000000000005, 'Equus (Hemionus) hemionus': 0.06885, 'Equus (Dolichohippus) grevyi': 1.29985, 'Nannippus morgani': 7.6000000000000005, 'Orohippus proteros': 53.05, 'Miohippus annectens': 25.615000000000002, 'Parahippus leonensis': 18.2, 'Kalobatippus agatensis': 22.615000000000002, 'Cormohipparion quinni': 14.785, 'Sinohippus zitteli': 4.4665, 'Miohippus obliquidens': 25.615000000000002, 'Kalobatippus australis': 14.1815, 'Nannippus beckensis': 3.35, 'Merychippus stevensi': 14.1815, 'Archaeohippus mannulus': 23.365000000000002, 'Pseudhipparion curtivallum': 11.95, 'Equus quagga': 1.6845, 'Miohippus gidleyi': 32.05, 'Scaphohippus sumani': 14.785, 'Hipparion crassum': 1.29985, 'Equus giganteus': 1.29985, 'Cormohipparion emsliei': 3.35, 'Protohippus supremus': 11.95, 'Pliohippus coalingensis': 3.9605, 'Cormohipparion matthewi': 11.95, 'Equus curvidens': 0.3965, 'Hipparion rocinantis': 3.9605, 'Miohippus taxus': 22.615000000000002, 'Equus leidyi': 0.06885, 'Calippus hondurensis': 7.6000000000000005, 'Calippus regulus': 9.25, 'Pliolophus barnesi': 51.9, 'Epihippus gracilis': 38.8, 'Merychippus californicus': 14.785, 'Merychippus republicanus': 14.785, 'Calippus maccartyi': 7.6000000000000005, 'Equus excelsus': 3.0940000000000003, 'Equus (Hesperohippus) mexicanus': 1.05, 'Hipparion tehonense': 13.965, 'Hypohippus chico': 14.1815, 'Desmatippus integer': 18.2, 'Eurygnathohippus afarense': 3.9605, 'Hipparion macedonicum': 8.470500000000001, 'Scaphohippus': 14.785, 'Hipparion periafricanum': 7.0165, 'Nannippus peninsulatus': 3.35, 'Hippidion devillei': 1.6845, 'Haplohippus texanus': 38.8, 'Archaeohippus mourningi': 14.785, 'Protohippus perditus': 13.135000000000002, 'Hipparion molayanense': 7.0165, 'Hipparion laromae': 9.2, 'Equus zebra': 1.29985, 'Equus fraternus': 1.29985, 'Kalobatippus avus': 22.615000000000002, 'Hipparion condoni': 9.25, 'Eurygnathohippus albertense': 3.0940000000000003, 'Parahippus wyomingensis': 22.615000000000002, 'Eurygnathohippus libycum': 1.6845, 'Parahippus': 18.2, 'Equus santaeelenae': 1.29985, 'Neohipparion leptode': 7.6000000000000005, 'Arenahippus pernix': 53.05, 'Minippus index': 53.05, 'Equus tabeti': 1.6845, 'Calippus elachistus': 14.1815, 'Hypohippus': 11.95, 'Hipparion longipes': 4.550000000000001, 'Calippus martini': 9.25, 'Pliohippus fairbanksi': 11.95, 'Miohippus intermedius': 25.615000000000002, 'Xenicohippus': 53.05, 'Astrohippus': 14.1815, 'Megahippus matthewi': 11.95, 'Protohippus': 14.785, 'Pseudhipparion skinneri': 11.95, 'Miohippus grandis': 33.599999999999994, 'Boreohippidion galushai': 7.6000000000000005, 'Hypohippus equinus': 18.2, 'Equus alaskae': 0.06885, 'Equus pectinatus': 1.05, 'Sifrhippus sandrae': 51.9, 'Equus (Amerhippus) santaeelenae': 0.06885, 'Calippus placidus': 11.95, 'Desmatippus nebrascensis': 22.615000000000002, 'Equus (Amerhippus) andium': 1.6845, 'Hipparion dietrichi': 8.225, 'Cormohipparion fricki': 11.95, 'Desmatippus avus': 14.785, 'Desmatippus tyleri': 18.2, 'Equini': 3.9605, 'Merychippus insignis': 11.95, 'Acritohippus isonesus': 18.2, 'Miohippus anceps': 25.615000000000002, 'Parahippus maxsoni': 25.615000000000002, 'Neohipparion affine': 9.25, 'Pseudhipparion': 8.094, 'Equus scotti': 0.063, 'Miohippus gemmarosae': 22.615000000000002, 'Equus przewalskii': 0.06885, 'Nannippus westoni': 13.789000000000001, 'Orohippus pumilus': 48.25, 'Anchitherium clarencei': 18.2, 'Heteropliohippus hulberti': 14.1815, 'Sifrhippus grangeri': 53.05, 'Mesohippus': 33.599999999999994, 'Equus conversidens': 1.29985, 'Hipparion gromovae': 7.0165, 'Desmatippus texanus': 25.565, 'Pliolophus vulpiceps': 51.9, 'Miohippus assiniboiensis': 29.049999999999997, 'Hipparionini': 11.95, 'Hippotherium': 10.399999999999999, 'Equus niobrarensis': 0.06885, 'Equus (Amerhippus) martinei': 1.29985, 'Mesohippus exoletus': 33.599999999999994, 'Miohippus': 25.615000000000002, 'Pliohippus pernix': 11.95, 'Calippus proplacidus': 14.1815, 'Dinohippus': 8.094, 'Parapliohippus': 17.015, 'Xenicohippus osborni': 53.05, 'Equus (Dolichohippus)': 1.05, 'Hipparion fissurae': 4.266500000000001, 'Hippidion principale': 1.6845, 'Cormohipparion plicatile': 7.6000000000000005, 'Anchitherium': 12.809000000000001, 'Astrohippus ansae': 7.6000000000000005, 'Equus complicatus': 1.29985, 'Pliohippus fossulatus': 14.1815, 'Hippotherium primigenium': 10.399999999999999, 'Desmatippus': 22.615000000000002, 'Pseudhipparion retrusum': 14.1815, 'Merychippus quintus': 18.2, 'Equus asinus': 0.00585, 'Orohippus major': 48.25, 'Pliohippus potosinus': 8.470500000000001, 'Sinohippus sampelayoi': 9.2, 'Anchitheriinae': 7.6000000000000005, 'Eohippus angustidens': 53.05, 'Archaeohippus penultimus': 18.2, 'Scaphohippus intermontanus': 18.2, 'Equus (Asinus) kiang': 0.06885, 'Equus idahoensis': 3.35, 'Equus proversus': 2.1905, 'Calippus': 11.95, 'Hypohippus nevadensis': 11.95, 'Merychippus primus': 18.2, 'Acritohippus tertius': 18.2, 'Cormohipparion johnsoni': 11.95, 'Neohipparion': 18.2, 'Dinohippus leidyanus': 7.6000000000000005, 'Pseudhipparion gratum': 14.785, 'Equus nalaikhaensis': 1.6845, 'Equus fromanius': 3.35, 'Neohipparion trampasense': 13.789000000000001, 'Equinae': 18.2, 'Protohippus lenticularis': 7.6000000000000005, 'Miohippus equiceps': 25.55, 'Archaeohippus minutalis': 18.2, 'Miohippus equinanus': 25.55, 'Duchesnehippus intermedius': 38.8, 'Eurygnathohippus': 7.609999999999999, 'Parahippus cognatus': 18.2, 'Pliohippus': 8.470500000000001, 'Equus capensis': 1.29985, 'Merychippus calamarius': 14.785, 'Archaeohippus ultimus': 14.1815, 'Anchitherium aurelianense': 16.435, 'Xenicohippus grangeri': 53.05, 'Xenicohippus craspedotum': 52.2, 'Dinohippus interpolatus': 3.35, 'Equus caballus': 1.29985, 'Merychippus brevidontus': 14.785, 'Equus pacificus': 0.06885, 'Protorohippus venticolum': 53.05, 'Hipparion shirleyae': 14.1815, 'Hipparion': 8.470500000000001, 'Protorohippus montanum': 53.05, 'Pliohippus mirabilis': 14.1815, 'Mesohippus propinquus': 35.55, 'Neohipparion gidleyi': 14.1815, 'Kalobatippus': 14.1815, 'Plesiohipparion': 4.4665, 'Cormohipparion goorisi': 14.785, 'Pseudhipparion hessei': 11.95, 'Parahippus pawniensis': 18.2, 'Astrohippus stockii': 7.6000000000000005, 'Cormohipparion': 14.1815, 'Equidae': 1.29985, 'Merychippus': 14.785, 'Mesohippus bairdi': 33.599999999999994, 'Hipparion chiai': 8.725, 'Acritohippus quinni': 14.1815, 'Cormohipparion sphenodus': 14.785, 'Equus (Hemionus)': 0.4535, 'Equus (Plesippus) crenidens': 3.0940000000000003, 'Megahippus mckennai': 14.785, 'Parahippus pristinus': 25.615000000000002, 'Hipparion concudense': 7.0165, 'Hippidion saldiasi': 0.06885, 'Equus (Amerhippus) insulatus': 0.06885, 'Merychippus gunteri': 18.2, 'Hipparion mediterraneum': 8.470500000000001, 'Hippidion': 1.29985, 'Arenahippus aemulor': 53.05, 'Hypohippus pertinax': 14.785, 'Parapliohippus carrizoensis': 14.1815, 'Calippus cerasinus': 14.1815, 'Pseudhipparion simpsoni': 7.6000000000000005, 'Cormohipparion skinneri': 11.95, 'Megahippus': 14.785, 'Nannippus minor': 3.9605, 'Anchitherium navasotae': 18.2, 'Equus francisci': 0.06885}\n"
     ]
    }
   ],
   "source": [
    "#this function calculates the average occurence for each species from its early and late occurence.\n",
    "\n",
    "\n",
    "def species_occurence():\n",
    "        \n",
    "    my_file = open(\"equidae2.csv\",\"r\", encoding = \"ISO-8859-15\")\n",
    "    my_line =my_file.readlines()[17:]\n",
    "     \n",
    "    \n",
    "    all_species=[]\n",
    "    all_occurence=[]\n",
    "    sp_occurence={}\n",
    "    \n",
    "        \n",
    "       \n",
    "    for line in my_line:\n",
    "        \n",
    "        line= line.replace('\"', '')\n",
    "        line= line.replace(\"'\", '')\n",
    "        \n",
    "           \n",
    "        species= line.split(\",\")[9]\n",
    "        sp_max = line.split(\",\")[14]\n",
    "        sp_min = line.split(\",\")[15]\n",
    "       \n",
    "        \n",
    "       \n",
    "        average = (float(sp_max) +float(sp_min))/2\n",
    "       \n",
    "        sp_occurence[species]= average\n",
    "    print(sp_occurence)\n",
    "   \n",
    "   #     all_species= all_species.append(species)\n",
    "    #    all_occurence= all_occurence.append(average)\n",
    "        \n",
    "     #   for number in range(0,len(sp_occurence)):\n",
    "       #     print (\"specie \" + all_species[number] +\" and its occurence in Ma is \"+ all_occurence[number])\n",
    "       \n",
    "    my_file.close()     \n",
    "\n",
    "species_occurence()"
   ]
  },
  {
   "cell_type": "code",
   "execution_count": null,
   "metadata": {
    "collapsed": true
   },
   "outputs": [],
   "source": []
  },
  {
   "cell_type": "markdown",
   "metadata": {},
   "source": [
    "# min vs. max"
   ]
  },
  {
   "cell_type": "code",
   "execution_count": 12,
   "metadata": {
    "collapsed": false
   },
   "outputs": [
    {
     "data": {
      "image/png": "[encoded data removed]",
      "text/plain": [
       "<matplotlib.figure.Figure at 0x7ff9908dcbe0>"
      ]
     },
     "metadata": {},
     "output_type": "display_data"
    }
   ],
   "source": [
    "#probably not using this function any more!!!\n",
    "#this function will create a graph of each specie's min and max Ma occurence\n",
    "\n",
    "\n",
    "def min_max_plot():\n",
    "    my_file2= open(\"equidae2.csv\" , encoding = \"ISO-8859-15\")\n",
    "    my_lines2 = my_file2.readlines()[17:]\n",
    "    \n",
    "    \n",
    "    species_max={}\n",
    "    species_min={}\n",
    "    for line in my_lines2:\n",
    "        line= line.replace('\"', '')\n",
    "        line= line.replace(\"'\", '')\n",
    "        species_name= line.split(\",\")[9]\n",
    "        max_int = line.split(\",\")[14]\n",
    "        min_int = line.split(\",\")[15]\n",
    "        species_max[species_name]= max_int\n",
    "        species_min[species_name]= min_int\n",
    "    \n",
    "        \n",
    "    import matplotlib.pyplot as plt\n",
    "    mins_list= list(species_min.values())\n",
    "    maxs_list = list(species_max.values())\n",
    "    names_list = list(species_min.keys())\n",
    "    \n",
    " #   mins_list=('[' + ', '.join(mins_list) + ']')\n",
    "  #  maxs_list= ('[' + ', '.join(maxs_list) + ']')\n",
    "   # names_list= ('[' + ', '.join(names_list) + ']')\n",
    "    m=[]\n",
    "    n=[]\n",
    "    kamkam = \"\"\n",
    "    ziadziad =\"\"\n",
    "    for name in names_list:\n",
    "      #  print(\"specie \", name, \"has min of \", species_min[name], \"and max of \", species_max[name] )\n",
    "        m.append(species_min[name])\n",
    "        n.append(species_max[name])\n",
    "   #     kam= species_min[name]\n",
    "    #    ziad=species_max[name]\n",
    "        \n",
    "    \n",
    "        \n",
    "    #    kamkam= kamkam+ \",\"+ kam\n",
    "    #    ziadziad= ziadziad+ \",\"+ ziad\n",
    "    \n",
    "        \n",
    "    plt.plot(m, n, 'ro')\n",
    "    plt.show()\n",
    "#min_max_plot()\n",
    "\n",
    "#here is the output from the first function\n",
    "min_max_plot()"
   ]
  },
  {
   "cell_type": "markdown",
   "metadata": {
    "collapsed": true
   },
   "source": [
    "# unique species, min age, max age, appearance period"
   ]
  },
  {
   "cell_type": "code",
   "execution_count": 15,
   "metadata": {
    "collapsed": false
   },
   "outputs": [
    {
     "name": "stdout",
     "output_type": "stream",
     "text": [
      "Epihippus gracilis, 38.8, 43.3, 4.5\n",
      "\n",
      "Epihippus gracilis, 38.8, 43.3, 4.5\n",
      "\n",
      "Epihippus gracilis, 38.8, 43.3, 4.5\n",
      "\n",
      "Epihippus gracilis, 38.8, 43.3, 4.5\n",
      "\n",
      "Epihippus gracilis, 38.8, 43.3, 4.5\n",
      "\n",
      "Epihippus gracilis, 38.8, 43.3, 4.5\n",
      "\n",
      "Epihippus gracilis, 38.8, 43.3, 4.5\n",
      "\n",
      "Epihippus gracilis, 38.8, 43.3, 4.5\n",
      "\n",
      "Epihippus gracilis, 38.8, 43.3, 4.5\n",
      "\n",
      "Epihippus gracilis, 38.8, 43.3, 4.5\n",
      "\n"
     ]
    }
   ],
   "source": [
    "#use file containing all species and their average values to make a dictionary with uniq species names and the average values for each\n",
    "#also maxage - minage gives the how long they appeared.\n",
    "#so output is a file with name of uniq species and min and max average values from all the data for each and the appearance period.\n",
    "#so, first column= name of species, 2nd column= min age, 3rd column=max age, 4rth column= appearance period=max-min\n",
    "my_file4 = open(\"average_species.csv\", encoding = \"ISO-8859-15\")\n",
    "my_line4 =my_file4.readlines()\n",
    "\n",
    "from collections import defaultdict\n",
    "species_ave = defaultdict(list)\n",
    "i=1\n",
    "for line in my_line4:\n",
    " \n",
    "    line= line.replace('\"', '')\n",
    "    line= line.replace(\"'\", '')\n",
    "    line= line.replace(\"\\n\",\"\")   \n",
    "    species_name= line.split(\",\")[0]\n",
    "    ave = line.split(\",\")[1]\n",
    "   \n",
    "   \n",
    "    species_ave[species_name].append(ave)\n",
    "    \n",
    "    \n",
    "  #get oldest and youngest ages of fossils for each species in ranges\n",
    "  \n",
    "with open(\"sp_uniq_range.csv\", \"w\") as f:\n",
    "   \n",
    "    for each in species_ave.keys():\n",
    "        ages= species_ave[each]\n",
    "        minage = min(ages)\n",
    "        maxage = max(ages)\n",
    "        appearance_period= float(maxage)- float(minage)\n",
    "    \n",
    "        \n",
    "        f.write(each+ \",\")\n",
    "        f.write(minage+ \",\")\n",
    "        f.write(maxage + \",\")\n",
    "        f.write(str(appearance_period)+ \"\\n\")\n",
    "   #here i will print only 10 lines of the output \n",
    "        while i<11:\n",
    "            print(each + \", \" + minage + \", \" + maxage +\", \"+ str(appearance_period)+\"\\n\")\n",
    "            i=i+1 \n",
    "    \n",
    "   "
   ]
  },
  {
   "cell_type": "code",
   "execution_count": null,
   "metadata": {
    "collapsed": true
   },
   "outputs": [],
   "source": []
  }
 ],
 "metadata": {
  "anaconda-cloud": {},
  "kernelspec": {
   "display_name": "Python [conda root]",
   "language": "python",
   "name": "conda-root-py"
  },
  "language_info": {
   "codemirror_mode": {
    "name": "ipython",
    "version": 3
   },
   "file_extension": ".py",
   "mimetype": "text/x-python",
   "name": "python",
   "nbconvert_exporter": "python",
   "pygments_lexer": "ipython3",
   "version": "3.5.2"
  }
 },
 "nbformat": 4,
 "nbformat_minor": 2
}
